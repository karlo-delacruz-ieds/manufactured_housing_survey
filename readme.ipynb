{
 "cells": [
  {
   "cell_type": "markdown",
   "metadata": {},
   "source": [
    "# Manufactured Housing Survey Case Study\n",
    "\n",
    "I'll present an actual data science homework when I was applying for a Data Scientist role in a legal and business solutions company in the Philippines in 2018. I was given a day to submit this case and I did my best to do this case. However, I didn't get the role. They didn't give me any feedback after doing this grueling task. It would be such a waste if I won't share this example with you. Let's do this!\n",
    "\n",
    "\n",
    "## Homework Instructions\n",
    "\n",
    "**Case Description**\n",
    "\n",
    "Our REIT analyst needs a Marco level view of housing in the Northeast region of the U.S. Using publically available data from Census.gov, provide an analysis to project housing demand in this market. Assume no limitations on the type of data that can be used in your analysis. \n",
    "\n",
    "**What are we looking for?** \n",
    "\n",
    "We want to understand how you approach and formulate this problem. Your though process is more important than the specific answers you arrive at. We also want to understand how you approach the technical aspects of the task (which algorithms you used and why). Please make sure your work is clearly documented. \n",
    "\n",
    "**Programming Language**\n",
    "\n",
    "R is preferred for this analysis, but please feel free to use any other language of your choice.\n",
    "\n",
    "**Output to prepare:** \n",
    "\n",
    "Create 2-3 ppt slides that highlight housing demand projections for the Northeast market, the approach, methodology used, and data sources applied.\n",
    "\n",
    "\n",
    "## My Answer\n",
    "\n",
    "**Additional Notes**\n",
    " - for the code, see: case_study.R file\n",
    " - about census data: mhs_puf_documentation2017.pdf\n",
    " - see census data: data_sources folder\n",
    "\n",
    "\n",
    "<img src=\"img/1.png\" alt=\"slide1\" width=\"1000\"/>\n",
    "\n",
    "<img src=\"img/2.png\" alt=\"slide2\" width=\"1000\"/>\n",
    "\n",
    "<img src=\"img/3.png\" alt=\"slide3\" width=\"1000\"/>\n",
    "\n",
    " "
   ]
  },
  {
   "cell_type": "code",
   "execution_count": null,
   "metadata": {},
   "outputs": [],
   "source": []
  }
 ],
 "metadata": {
  "kernelspec": {
   "display_name": "Python 3",
   "language": "python",
   "name": "python3"
  },
  "language_info": {
   "codemirror_mode": {
    "name": "ipython",
    "version": 3
   },
   "file_extension": ".py",
   "mimetype": "text/x-python",
   "name": "python",
   "nbconvert_exporter": "python",
   "pygments_lexer": "ipython3",
   "version": "3.8.5"
  }
 },
 "nbformat": 4,
 "nbformat_minor": 4
}
